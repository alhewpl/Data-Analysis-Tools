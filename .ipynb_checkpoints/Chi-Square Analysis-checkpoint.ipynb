{
 "cells": [
  {
   "cell_type": "markdown",
   "metadata": {},
   "source": [
    "#### import necessary libraries"
   ]
  },
  {
   "cell_type": "code",
   "execution_count": 14,
   "metadata": {
    "collapsed": true
   },
   "outputs": [],
   "source": [
    "import pandas as pd\n",
    "import numpy as np\n",
    "import statsmodels.formula.api as smf\n",
    "import statsmodels.stats.multicomp as multi\n",
    "import scipy.stats\n",
    "import seaborn as sns\n",
    "import matplotlib.pyplot as plt\n",
    "%matplotlib inline"
   ]
  },
  {
   "cell_type": "markdown",
   "metadata": {},
   "source": [
    "#### read in the data"
   ]
  },
  {
   "cell_type": "code",
   "execution_count": 2,
   "metadata": {
    "collapsed": true
   },
   "outputs": [],
   "source": [
    "data1 = pd.read_csv('gapminder2.csv', low_memory=False)"
   ]
  },
  {
   "cell_type": "markdown",
   "metadata": {},
   "source": [
    "#### remove unnecessary columns and make a copy of the subdata"
   ]
  },
  {
   "cell_type": "code",
   "execution_count": 3,
   "metadata": {
    "collapsed": true
   },
   "outputs": [],
   "source": [
    "data2 = data1[[\"continent\", \"country\", \"breastcancerper100th\", \"urbanrate\", \"incomeperperson\", \"breastcancernbdeaths\"]]\n",
    "data = data2.copy()"
   ]
  },
  {
   "cell_type": "markdown",
   "metadata": {},
   "source": [
    "#### remove missing values(in my case '0' values)"
   ]
  },
  {
   "cell_type": "code",
   "execution_count": 4,
   "metadata": {
    "collapsed": true
   },
   "outputs": [],
   "source": [
    "data= data.replace(0, np.NaN)\n",
    "data = data.dropna()"
   ]
  },
  {
   "cell_type": "markdown",
   "metadata": {},
   "source": [
    "#### Change the data type for chosen variables"
   ]
  },
  {
   "cell_type": "code",
   "execution_count": 5,
   "metadata": {
    "collapsed": true
   },
   "outputs": [],
   "source": [
    "data['breastcancerper100th'] = pd.to_numeric(data['breastcancerper100th'])\n",
    "data['urbanrate'] = pd.to_numeric(data['urbanrate'])"
   ]
  },
  {
   "cell_type": "markdown",
   "metadata": {},
   "source": [
    "#### Create variable quartiles and calculate frequency in bins"
   ]
  },
  {
   "cell_type": "code",
   "execution_count": 6,
   "metadata": {},
   "outputs": [
    {
     "name": "stdout",
     "output_type": "stream",
     "text": [
      "Categories of breast cancer cases per 100 000 females:\n",
      "Frequency distribution - breast cancer bins:\n",
      "            counts  percentages\n",
      "high           17     0.103030\n",
      "low            77     0.466667\n",
      "medium         54     0.327273\n",
      "very high      17     0.103030\n",
      "\n",
      "\n"
     ]
    }
   ],
   "source": [
    "print('Categories of breast cancer cases per 100 000 females:')\n",
    "data['cancercaseslabel'] =pd.cut(data.breastcancerper100th,4,labels=['low','medium','high','very high'])\n",
    "breastcan_freq = pd.concat(dict(counts = data[\"cancercaseslabel\"].value_counts(sort=False, dropna=False),\n",
    "                                   percentages = data[\"cancercaseslabel\"].value_counts(sort=False, dropna=False,\n",
    "                                                                                       normalize=True)),\n",
    "                            axis=1)\n",
    "print(\"Frequency distribution - breast cancer bins:\\n\", breastcan_freq)\n",
    "print('\\n')"
   ]
  },
  {
   "cell_type": "code",
   "execution_count": 8,
   "metadata": {},
   "outputs": [
    {
     "name": "stdout",
     "output_type": "stream",
     "text": [
      "Frequency distribution - urban rate:\n",
      "          counts  percentages\n",
      "0-25%        32     0.193939\n",
      "26-50%       42     0.254545\n",
      "51-74%       61     0.369697\n",
      "75-100%      30     0.181818\n"
     ]
    }
   ],
   "source": [
    "data['urbanratepercent'] =pd.cut(data.urbanrate,4,labels=['0-25%','26-50%','51-74%','75-100%'])\n",
    "urban_freq = pd.concat(dict(counts = data[\"urbanratepercent\"].value_counts(sort=False, dropna=False),\n",
    "                                   percentages = data[\"urbanratepercent\"].value_counts(sort=False, dropna=False,\n",
    "                                                                                       normalize=True)),\n",
    "                            axis=1)\n",
    "print(\"Frequency distribution - urban rate:\\n\", urban_freq)"
   ]
  },
  {
   "cell_type": "markdown",
   "metadata": {},
   "source": [
    "#### contingency table of observed counts"
   ]
  },
  {
   "cell_type": "code",
   "execution_count": 9,
   "metadata": {},
   "outputs": [
    {
     "name": "stdout",
     "output_type": "stream",
     "text": [
      "Contingency table of observed counts\n",
      "urbanratepercent  0-25%  26-50%  51-74%  75-100%\n",
      "cancercaseslabel                                \n",
      "high                  0       4       9        4\n",
      "low                  26      27      19        5\n",
      "medium                6      11      29        8\n",
      "very high             0       0       4       13\n",
      "\n",
      "\n"
     ]
    }
   ],
   "source": [
    "print('Contingency table of observed counts')\n",
    "ct1=pd.crosstab(data['cancercaseslabel'], data['urbanratepercent'])\n",
    "print (ct1)\n",
    "print('\\n')"
   ]
  },
  {
   "cell_type": "markdown",
   "metadata": {},
   "source": [
    "#### column percentages"
   ]
  },
  {
   "cell_type": "code",
   "execution_count": 11,
   "metadata": {},
   "outputs": [
    {
     "name": "stdout",
     "output_type": "stream",
     "text": [
      "Column percentages\n",
      "urbanratepercent   0-25%    26-50%    51-74%   75-100%\n",
      "cancercaseslabel                                      \n",
      "high              0.0000  0.095238  0.147541  0.133333\n",
      "low               0.8125  0.642857  0.311475  0.166667\n",
      "medium            0.1875  0.261905  0.475410  0.266667\n",
      "very high         0.0000  0.000000  0.065574  0.433333\n",
      "\n",
      "\n"
     ]
    }
   ],
   "source": [
    "print('Column percentages')\n",
    "colsum=ct1.sum(axis=0)\n",
    "colpct=ct1/colsum\n",
    "print(colpct)\n",
    "print('\\n')"
   ]
  },
  {
   "cell_type": "markdown",
   "metadata": {},
   "source": [
    "#### Chi-square"
   ]
  },
  {
   "cell_type": "code",
   "execution_count": 12,
   "metadata": {},
   "outputs": [
    {
     "name": "stdout",
     "output_type": "stream",
     "text": [
      "chi-square value, p value, expected counts\n",
      "(71.798834424480177, 6.7520667625654625e-12, 9, array([[  3.2969697 ,   4.32727273,   6.28484848,   3.09090909],\n",
      "       [ 14.93333333,  19.6       ,  28.46666667,  14.        ],\n",
      "       [ 10.47272727,  13.74545455,  19.96363636,   9.81818182],\n",
      "       [  3.2969697 ,   4.32727273,   6.28484848,   3.09090909]]))\n",
      "\n",
      "\n"
     ]
    }
   ],
   "source": [
    "print ('chi-square value, p value, expected counts')\n",
    "cs1= scipy.stats.chi2_contingency(ct1)\n",
    "print (cs1)\n",
    "print('\\n')"
   ]
  },
  {
   "cell_type": "markdown",
   "metadata": {},
   "source": [
    "#### graph percent with new cases of breast cancer within each urbanisation frequency group "
   ]
  },
  {
   "cell_type": "code",
   "execution_count": 15,
   "metadata": {},
   "outputs": [
    {
     "data": {
      "text/plain": [
       "<matplotlib.text.Text at 0x1155eef98>"
      ]
     },
     "execution_count": 15,
     "metadata": {},
     "output_type": "execute_result"
    },
    {
     "data": {
      "text/plain": [
       "<matplotlib.figure.Figure at 0x1154f1358>"
      ]
     },
     "metadata": {},
     "output_type": "display_data"
    },
    {
     "data": {
      "image/png": "[encoded data removed]",
      "text/plain": [
       "<matplotlib.figure.Figure at 0x1155eb160>"
      ]
     },
     "metadata": {},
     "output_type": "display_data"
    }
   ],
   "source": [
    "plt.figure(figsize=(18,10))\n",
    "sns.factorplot(x=\"urbanratepercent\", y=\"breastcancerper100th\", data=data, kind=\"bar\", ci=None)\n",
    "plt.ylabel('Breast Cancer cases numbers')\n",
    "plt.xlabel('Urbanisation rate groups')"
   ]
  },
  {
   "cell_type": "markdown",
   "metadata": {},
   "source": [
    "#### creating a subset to include the 2 variables we want to analyse"
   ]
  },
  {
   "cell_type": "code",
   "execution_count": 16,
   "metadata": {
    "collapsed": true
   },
   "outputs": [],
   "source": [
    "sub2 = data[['cancercaseslabel', 'urbanratepercent']]"
   ]
  },
  {
   "cell_type": "markdown",
   "metadata": {},
   "source": [
    "#### COMPARISON 1 Bonferroni Adjustment"
   ]
  },
  {
   "cell_type": "code",
   "execution_count": 28,
   "metadata": {},
   "outputs": [
    {
     "name": "stdout",
     "output_type": "stream",
     "text": [
      "COMPARISON 1 Bonferroni Adjustment\n"
     ]
    },
    {
     "name": "stderr",
     "output_type": "stream",
     "text": [
      "/anaconda/lib/python3.6/site-packages/ipykernel_launcher.py:3: SettingWithCopyWarning: \n",
      "A value is trying to be set on a copy of a slice from a DataFrame.\n",
      "Try using .loc[row_indexer,col_indexer] = value instead\n",
      "\n",
      "See the caveats in the documentation: http://pandas.pydata.org/pandas-docs/stable/indexing.html#indexing-view-versus-copy\n",
      "  This is separate from the ipykernel package so we can avoid doing imports until\n"
     ]
    }
   ],
   "source": [
    "print('COMPARISON 1 Bonferroni Adjustment')\n",
    "recode1 = {'0-25%':'0-25%', '26-50%': '26-50%'}\n",
    "sub2['COMP1vs2']= sub2['urbanratepercent'].map(recode1)\n"
   ]
  },
  {
   "cell_type": "markdown",
   "metadata": {},
   "source": [
    "#### contingency table of observed counts"
   ]
  },
  {
   "cell_type": "code",
   "execution_count": 30,
   "metadata": {},
   "outputs": [
    {
     "name": "stdout",
     "output_type": "stream",
     "text": [
      "Contingency table of observed counts\n",
      "COMP1vs2          0-25%  26-50%\n",
      "cancercaseslabel               \n",
      "high                  0       4\n",
      "low                  26      27\n",
      "medium                6      11\n",
      "very high             0       0\n"
     ]
    }
   ],
   "source": [
    "print('Contingency table of observed counts')\n",
    "ct2=pd.crosstab(sub2['cancercaseslabel'], sub2['COMP1vs2'])\n",
    "print (ct2)"
   ]
  },
  {
   "cell_type": "markdown",
   "metadata": {},
   "source": [
    "#### column percentages"
   ]
  },
  {
   "cell_type": "code",
   "execution_count": 31,
   "metadata": {},
   "outputs": [
    {
     "name": "stdout",
     "output_type": "stream",
     "text": [
      "Column percentages\n",
      "COMP1vs2           0-25%    26-50%\n",
      "cancercaseslabel                  \n",
      "high              0.0000  0.095238\n",
      "low               0.8125  0.642857\n",
      "medium            0.1875  0.261905\n",
      "very high         0.0000  0.000000\n"
     ]
    }
   ],
   "source": [
    "print('Column percentages')\n",
    "colsum=ct2.sum(axis=0)\n",
    "colpct=ct2/colsum\n",
    "print(colpct)"
   ]
  },
  {
   "cell_type": "markdown",
   "metadata": {},
   "source": [
    "#### Chi-square"
   ]
  },
  {
   "cell_type": "code",
   "execution_count": 32,
   "metadata": {},
   "outputs": [
    {
     "name": "stdout",
     "output_type": "stream",
     "text": [
      "chi-square value, p value, expected counts\n"
     ]
    },
    {
     "ename": "ValueError",
     "evalue": "The internally computed table of expected frequencies has a zero element at (3, 0).",
     "output_type": "error",
     "traceback": [
      "\u001b[0;31m---------------------------------------------------------------------------\u001b[0m",
      "\u001b[0;31mValueError\u001b[0m                                Traceback (most recent call last)",
      "\u001b[0;32m<ipython-input-32-a16475c49586>\u001b[0m in \u001b[0;36m<module>\u001b[0;34m()\u001b[0m\n\u001b[1;32m      1\u001b[0m \u001b[0mprint\u001b[0m \u001b[0;34m(\u001b[0m\u001b[0;34m'chi-square value, p value, expected counts'\u001b[0m\u001b[0;34m)\u001b[0m\u001b[0;34m\u001b[0m\u001b[0m\n\u001b[0;32m----> 2\u001b[0;31m \u001b[0mcs2\u001b[0m\u001b[0;34m=\u001b[0m \u001b[0mscipy\u001b[0m\u001b[0;34m.\u001b[0m\u001b[0mstats\u001b[0m\u001b[0;34m.\u001b[0m\u001b[0mchi2_contingency\u001b[0m\u001b[0;34m(\u001b[0m\u001b[0mct2\u001b[0m\u001b[0;34m)\u001b[0m\u001b[0;34m\u001b[0m\u001b[0m\n\u001b[0m\u001b[1;32m      3\u001b[0m \u001b[0mprint\u001b[0m \u001b[0;34m(\u001b[0m\u001b[0mcs2\u001b[0m\u001b[0;34m)\u001b[0m\u001b[0;34m\u001b[0m\u001b[0m\n",
      "\u001b[0;32m/anaconda/lib/python3.6/site-packages/scipy/stats/contingency.py\u001b[0m in \u001b[0;36mchi2_contingency\u001b[0;34m(observed, correction, lambda_)\u001b[0m\n\u001b[1;32m    251\u001b[0m         \u001b[0mzeropos\u001b[0m \u001b[0;34m=\u001b[0m \u001b[0mlist\u001b[0m\u001b[0;34m(\u001b[0m\u001b[0mzip\u001b[0m\u001b[0;34m(\u001b[0m\u001b[0;34m*\u001b[0m\u001b[0mnp\u001b[0m\u001b[0;34m.\u001b[0m\u001b[0mwhere\u001b[0m\u001b[0;34m(\u001b[0m\u001b[0mexpected\u001b[0m \u001b[0;34m==\u001b[0m \u001b[0;36m0\u001b[0m\u001b[0;34m)\u001b[0m\u001b[0;34m)\u001b[0m\u001b[0;34m)\u001b[0m\u001b[0;34m[\u001b[0m\u001b[0;36m0\u001b[0m\u001b[0;34m]\u001b[0m\u001b[0;34m\u001b[0m\u001b[0m\n\u001b[1;32m    252\u001b[0m         raise ValueError(\"The internally computed table of expected \"\n\u001b[0;32m--> 253\u001b[0;31m                          \"frequencies has a zero element at %s.\" % (zeropos,))\n\u001b[0m\u001b[1;32m    254\u001b[0m \u001b[0;34m\u001b[0m\u001b[0m\n\u001b[1;32m    255\u001b[0m     \u001b[0;31m# The degrees of freedom\u001b[0m\u001b[0;34m\u001b[0m\u001b[0;34m\u001b[0m\u001b[0m\n",
      "\u001b[0;31mValueError\u001b[0m: The internally computed table of expected frequencies has a zero element at (3, 0)."
     ]
    }
   ],
   "source": [
    "print ('chi-square value, p value, expected counts')\n",
    "cs2= scipy.stats.chi2_contingency(ct2)\n",
    "print (cs2)"
   ]
  },
  {
   "cell_type": "markdown",
   "metadata": {},
   "source": [
    "#### COMPARISON 2 Bonferroni Adjustment"
   ]
  },
  {
   "cell_type": "code",
   "execution_count": 33,
   "metadata": {},
   "outputs": [
    {
     "name": "stdout",
     "output_type": "stream",
     "text": [
      "COMPARISON 2 Bonferroni Adjustment\n"
     ]
    },
    {
     "name": "stderr",
     "output_type": "stream",
     "text": [
      "/anaconda/lib/python3.6/site-packages/ipykernel_launcher.py:3: SettingWithCopyWarning: \n",
      "A value is trying to be set on a copy of a slice from a DataFrame.\n",
      "Try using .loc[row_indexer,col_indexer] = value instead\n",
      "\n",
      "See the caveats in the documentation: http://pandas.pydata.org/pandas-docs/stable/indexing.html#indexing-view-versus-copy\n",
      "  This is separate from the ipykernel package so we can avoid doing imports until\n"
     ]
    }
   ],
   "source": [
    "print('COMPARISON 2 Bonferroni Adjustment')\n",
    "recode2 = {'0-25%':'0-25%', '51-74%': '51-74%'}\n",
    "sub2['COMP1vs3']= sub2['urbanratepercent'].map(recode2)"
   ]
  },
  {
   "cell_type": "markdown",
   "metadata": {},
   "source": [
    "#### contingency table of observed counts"
   ]
  },
  {
   "cell_type": "code",
   "execution_count": 34,
   "metadata": {},
   "outputs": [
    {
     "name": "stdout",
     "output_type": "stream",
     "text": [
      "Contingency table of observed counts\n",
      "COMP1vs3          0-25%  51-74%\n",
      "cancercaseslabel               \n",
      "high                  0       9\n",
      "low                  26      19\n",
      "medium                6      29\n",
      "very high             0       4\n"
     ]
    }
   ],
   "source": [
    "print('Contingency table of observed counts')\n",
    "ct3=pd.crosstab(sub2['cancercaseslabel'], sub2['COMP1vs3'])\n",
    "print (ct3)"
   ]
  },
  {
   "cell_type": "markdown",
   "metadata": {},
   "source": [
    "#### column percentages"
   ]
  },
  {
   "cell_type": "code",
   "execution_count": 35,
   "metadata": {},
   "outputs": [
    {
     "name": "stdout",
     "output_type": "stream",
     "text": [
      "Column percentages\n",
      "COMP1vs3           0-25%    51-74%\n",
      "cancercaseslabel                  \n",
      "high              0.0000  0.147541\n",
      "low               0.8125  0.311475\n",
      "medium            0.1875  0.475410\n",
      "very high         0.0000  0.065574\n"
     ]
    }
   ],
   "source": [
    "print('Column percentages')\n",
    "colsum=ct3.sum(axis=0)\n",
    "colpct=ct3/colsum\n",
    "print(colpct)"
   ]
  },
  {
   "cell_type": "markdown",
   "metadata": {},
   "source": [
    "#### Chi-square"
   ]
  },
  {
   "cell_type": "code",
   "execution_count": 36,
   "metadata": {},
   "outputs": [
    {
     "name": "stdout",
     "output_type": "stream",
     "text": [
      "chi-square value, p value, expected counts\n",
      "(22.33161592505855, 5.5646065541129641e-05, 3, array([[  3.09677419,   5.90322581],\n",
      "       [ 15.48387097,  29.51612903],\n",
      "       [ 12.04301075,  22.95698925],\n",
      "       [  1.37634409,   2.62365591]]))\n"
     ]
    }
   ],
   "source": [
    "print ('chi-square value, p value, expected counts')\n",
    "cs3= scipy.stats.chi2_contingency(ct3)\n",
    "print (cs3)"
   ]
  },
  {
   "cell_type": "markdown",
   "metadata": {},
   "source": [
    "#### COMPARISON 3 Bonferroni Adjustment"
   ]
  },
  {
   "cell_type": "code",
   "execution_count": 37,
   "metadata": {},
   "outputs": [
    {
     "name": "stdout",
     "output_type": "stream",
     "text": [
      "COMPARISON 3 Bonferroni Adjustment\n"
     ]
    },
    {
     "name": "stderr",
     "output_type": "stream",
     "text": [
      "/anaconda/lib/python3.6/site-packages/ipykernel_launcher.py:3: SettingWithCopyWarning: \n",
      "A value is trying to be set on a copy of a slice from a DataFrame.\n",
      "Try using .loc[row_indexer,col_indexer] = value instead\n",
      "\n",
      "See the caveats in the documentation: http://pandas.pydata.org/pandas-docs/stable/indexing.html#indexing-view-versus-copy\n",
      "  This is separate from the ipykernel package so we can avoid doing imports until\n"
     ]
    }
   ],
   "source": [
    "print('COMPARISON 3 Bonferroni Adjustment')\n",
    "recode3 = {'0-25%':'0-25%', '75-100%': '75-100%'}\n",
    "sub2['COMP1vs4']= sub2['urbanratepercent'].map(recode3)"
   ]
  },
  {
   "cell_type": "markdown",
   "metadata": {},
   "source": [
    "#### contingency table of observed counts"
   ]
  },
  {
   "cell_type": "code",
   "execution_count": 38,
   "metadata": {},
   "outputs": [
    {
     "name": "stdout",
     "output_type": "stream",
     "text": [
      "Contingency table of observed counts\n",
      "COMP1vs4          0-25%  75-100%\n",
      "cancercaseslabel                \n",
      "high                  0        4\n",
      "low                  26        5\n",
      "medium                6        8\n",
      "very high             0       13\n"
     ]
    }
   ],
   "source": [
    "print('Contingency table of observed counts')\n",
    "ct4=pd.crosstab(sub2['cancercaseslabel'], sub2['COMP1vs4'])\n",
    "print (ct4)"
   ]
  },
  {
   "cell_type": "markdown",
   "metadata": {},
   "source": [
    "#### column percentages"
   ]
  },
  {
   "cell_type": "code",
   "execution_count": 39,
   "metadata": {},
   "outputs": [
    {
     "name": "stdout",
     "output_type": "stream",
     "text": [
      "Column percentages\n",
      "COMP1vs4           0-25%   75-100%\n",
      "cancercaseslabel                  \n",
      "high              0.0000  0.133333\n",
      "low               0.8125  0.166667\n",
      "medium            0.1875  0.266667\n",
      "very high         0.0000  0.433333\n"
     ]
    }
   ],
   "source": [
    "print('Column percentages')\n",
    "colsum=ct4.sum(axis=0)\n",
    "colpct=ct4/colsum\n",
    "print(colpct)"
   ]
  },
  {
   "cell_type": "markdown",
   "metadata": {},
   "source": [
    "#### Chi-square"
   ]
  },
  {
   "cell_type": "code",
   "execution_count": 40,
   "metadata": {},
   "outputs": [
    {
     "name": "stdout",
     "output_type": "stream",
     "text": [
      "chi-square value, p value, expected counts\n",
      "(31.479761904761908, 6.7360294479546027e-07, 3, array([[  2.06451613,   1.93548387],\n",
      "       [ 16.        ,  15.        ],\n",
      "       [  7.22580645,   6.77419355],\n",
      "       [  6.70967742,   6.29032258]]))\n"
     ]
    }
   ],
   "source": [
    "print ('chi-square value, p value, expected counts')\n",
    "cs4= scipy.stats.chi2_contingency(ct4)\n",
    "print (cs4)"
   ]
  },
  {
   "cell_type": "markdown",
   "metadata": {},
   "source": [
    "#### COMPARISON 4 Bonferroni Adjustment"
   ]
  },
  {
   "cell_type": "code",
   "execution_count": 41,
   "metadata": {},
   "outputs": [
    {
     "name": "stdout",
     "output_type": "stream",
     "text": [
      "COMPARISON 4 Bonferroni Adjustment\n"
     ]
    },
    {
     "name": "stderr",
     "output_type": "stream",
     "text": [
      "/anaconda/lib/python3.6/site-packages/ipykernel_launcher.py:3: SettingWithCopyWarning: \n",
      "A value is trying to be set on a copy of a slice from a DataFrame.\n",
      "Try using .loc[row_indexer,col_indexer] = value instead\n",
      "\n",
      "See the caveats in the documentation: http://pandas.pydata.org/pandas-docs/stable/indexing.html#indexing-view-versus-copy\n",
      "  This is separate from the ipykernel package so we can avoid doing imports until\n"
     ]
    }
   ],
   "source": [
    "print('COMPARISON 4 Bonferroni Adjustment')\n",
    "recode4 = {'26-50%':'26-50%', '51-74%': '51-74%'}\n",
    "sub2['COMP2vs3']= sub2['urbanratepercent'].map(recode4)"
   ]
  },
  {
   "cell_type": "markdown",
   "metadata": {},
   "source": [
    "#### contingency table of observed counts"
   ]
  },
  {
   "cell_type": "code",
   "execution_count": 42,
   "metadata": {},
   "outputs": [
    {
     "name": "stdout",
     "output_type": "stream",
     "text": [
      "Contingency table of observed counts\n",
      "COMP2vs3          26-50%  51-74%\n",
      "cancercaseslabel                \n",
      "high                   4       9\n",
      "low                   27      19\n",
      "medium                11      29\n",
      "very high              0       4\n"
     ]
    }
   ],
   "source": [
    "print('Contingency table of observed counts')\n",
    "ct5=pd.crosstab(sub2['cancercaseslabel'], sub2['COMP2vs3'])\n",
    "print (ct5)"
   ]
  },
  {
   "cell_type": "markdown",
   "metadata": {},
   "source": [
    "#### column percentages"
   ]
  },
  {
   "cell_type": "code",
   "execution_count": 43,
   "metadata": {},
   "outputs": [
    {
     "name": "stdout",
     "output_type": "stream",
     "text": [
      "Column percentages\n",
      "COMP2vs3            26-50%    51-74%\n",
      "cancercaseslabel                    \n",
      "high              0.095238  0.147541\n",
      "low               0.642857  0.311475\n",
      "medium            0.261905  0.475410\n",
      "very high         0.000000  0.065574\n"
     ]
    }
   ],
   "source": [
    "print('Column percentages')\n",
    "colsum=ct5.sum(axis=0)\n",
    "colpct=ct5/colsum\n",
    "print(colpct)"
   ]
  },
  {
   "cell_type": "markdown",
   "metadata": {},
   "source": [
    "#### Chi-square"
   ]
  },
  {
   "cell_type": "code",
   "execution_count": 44,
   "metadata": {},
   "outputs": [
    {
     "name": "stdout",
     "output_type": "stream",
     "text": [
      "chi-square value, p value, expected counts\n",
      "(12.329056489364758, 0.0063368988168448926, 3, array([[  5.30097087,   7.69902913],\n",
      "       [ 18.75728155,  27.24271845],\n",
      "       [ 16.31067961,  23.68932039],\n",
      "       [  1.63106796,   2.36893204]]))\n"
     ]
    }
   ],
   "source": [
    "print ('chi-square value, p value, expected counts')\n",
    "cs5= scipy.stats.chi2_contingency(ct5)\n",
    "print (cs5)"
   ]
  },
  {
   "cell_type": "markdown",
   "metadata": {},
   "source": [
    "#### COMPARISON 5 Bonferroni Adjustment"
   ]
  },
  {
   "cell_type": "code",
   "execution_count": 45,
   "metadata": {},
   "outputs": [
    {
     "name": "stdout",
     "output_type": "stream",
     "text": [
      "COMPARISON 5 Bonferroni Adjustment\n"
     ]
    },
    {
     "name": "stderr",
     "output_type": "stream",
     "text": [
      "/anaconda/lib/python3.6/site-packages/ipykernel_launcher.py:3: SettingWithCopyWarning: \n",
      "A value is trying to be set on a copy of a slice from a DataFrame.\n",
      "Try using .loc[row_indexer,col_indexer] = value instead\n",
      "\n",
      "See the caveats in the documentation: http://pandas.pydata.org/pandas-docs/stable/indexing.html#indexing-view-versus-copy\n",
      "  This is separate from the ipykernel package so we can avoid doing imports until\n"
     ]
    }
   ],
   "source": [
    "print('COMPARISON 5 Bonferroni Adjustment')\n",
    "recode5 = {'26-50%':'26-50%', '75-100%': '75-100%'}\n",
    "sub2['COMP2vs4']= sub2['urbanratepercent'].map(recode5)"
   ]
  },
  {
   "cell_type": "markdown",
   "metadata": {},
   "source": [
    "#### contingency table of observed counts"
   ]
  },
  {
   "cell_type": "code",
   "execution_count": 46,
   "metadata": {},
   "outputs": [
    {
     "name": "stdout",
     "output_type": "stream",
     "text": [
      "Contingency table of observed counts\n",
      "COMP2vs4          26-50%  75-100%\n",
      "cancercaseslabel                 \n",
      "high                   4        4\n",
      "low                   27        5\n",
      "medium                11        8\n",
      "very high              0       13\n"
     ]
    }
   ],
   "source": [
    "print('Contingency table of observed counts')\n",
    "ct6=pd.crosstab(sub2['cancercaseslabel'], sub2['COMP2vs4'])\n",
    "print (ct6)"
   ]
  },
  {
   "cell_type": "markdown",
   "metadata": {},
   "source": [
    "#### column percentages"
   ]
  },
  {
   "cell_type": "code",
   "execution_count": 47,
   "metadata": {},
   "outputs": [
    {
     "name": "stdout",
     "output_type": "stream",
     "text": [
      "Column percentages\n",
      "COMP2vs4            26-50%   75-100%\n",
      "cancercaseslabel                    \n",
      "high              0.095238  0.133333\n",
      "low               0.642857  0.166667\n",
      "medium            0.261905  0.266667\n",
      "very high         0.000000  0.433333\n"
     ]
    }
   ],
   "source": [
    "print('Column percentages')\n",
    "colsum=ct6.sum(axis=0)\n",
    "colpct=ct6/colsum\n",
    "print(colpct)"
   ]
  },
  {
   "cell_type": "markdown",
   "metadata": {},
   "source": [
    "#### Chi-square"
   ]
  },
  {
   "cell_type": "code",
   "execution_count": 48,
   "metadata": {},
   "outputs": [
    {
     "name": "stdout",
     "output_type": "stream",
     "text": [
      "chi-square value, p value, expected counts\n",
      "(27.35864661654135, 4.9512621235208696e-06, 3, array([[  4.66666667,   3.33333333],\n",
      "       [ 18.66666667,  13.33333333],\n",
      "       [ 11.08333333,   7.91666667],\n",
      "       [  7.58333333,   5.41666667]]))\n"
     ]
    }
   ],
   "source": [
    "print ('chi-square value, p value, expected counts')\n",
    "cs6= scipy.stats.chi2_contingency(ct6)\n",
    "print (cs6)"
   ]
  },
  {
   "cell_type": "markdown",
   "metadata": {},
   "source": [
    "#### COMPARISON 6 Bonferroni Adjustment"
   ]
  },
  {
   "cell_type": "code",
   "execution_count": 49,
   "metadata": {},
   "outputs": [
    {
     "name": "stdout",
     "output_type": "stream",
     "text": [
      "COMPARISON 6 Bonferroni Adjustment\n"
     ]
    }
   ],
   "source": [
    "print('COMPARISON 6 Bonferroni Adjustment')\n",
    "recode6 = {'51-74%':'51-74%', '75-100%': '75-100%'}\n",
    "sub2['COMP3vs4']= sub2['urbanratepercent'].map(recode6)"
   ]
  },
  {
   "cell_type": "markdown",
   "metadata": {},
   "source": [
    "#### contingency table of observed counts"
   ]
  },
  {
   "cell_type": "code",
   "execution_count": 50,
   "metadata": {},
   "outputs": [
    {
     "name": "stdout",
     "output_type": "stream",
     "text": [
      "Contingency table of observed counts\n",
      "COMP3vs4          51-74%  75-100%\n",
      "cancercaseslabel                 \n",
      "high                   9        4\n",
      "low                   19        5\n",
      "medium                29        8\n",
      "very high              4       13\n"
     ]
    }
   ],
   "source": [
    "print('Contingency table of observed counts')\n",
    "ct7=pd.crosstab(sub2['cancercaseslabel'], sub2['COMP3vs4'])\n",
    "print (ct7)"
   ]
  },
  {
   "cell_type": "markdown",
   "metadata": {},
   "source": [
    "#### column percentages"
   ]
  },
  {
   "cell_type": "code",
   "execution_count": 52,
   "metadata": {},
   "outputs": [
    {
     "name": "stdout",
     "output_type": "stream",
     "text": [
      "Column percentages\n",
      "COMP3vs4            51-74%   75-100%\n",
      "cancercaseslabel                    \n",
      "high              0.147541  0.133333\n",
      "low               0.311475  0.166667\n",
      "medium            0.475410  0.266667\n",
      "very high         0.065574  0.433333\n"
     ]
    }
   ],
   "source": [
    "print('Column percentages')\n",
    "colsum=ct7.sum(axis=0)\n",
    "colpct=ct7/colsum\n",
    "print(colpct)"
   ]
  },
  {
   "cell_type": "markdown",
   "metadata": {},
   "source": [
    "#### Chi-square"
   ]
  },
  {
   "cell_type": "code",
   "execution_count": 53,
   "metadata": {},
   "outputs": [
    {
     "name": "stdout",
     "output_type": "stream",
     "text": [
      "chi-square value, p value, expected counts\n",
      "(18.341429459835922, 0.00037398625793033522, 3, array([[  8.71428571,   4.28571429],\n",
      "       [ 16.08791209,   7.91208791],\n",
      "       [ 24.8021978 ,  12.1978022 ],\n",
      "       [ 11.3956044 ,   5.6043956 ]]))\n"
     ]
    }
   ],
   "source": [
    "print ('chi-square value, p value, expected counts')\n",
    "cs7= scipy.stats.chi2_contingency(ct7)\n",
    "print (cs7)"
   ]
  },
  {
   "cell_type": "code",
   "execution_count": null,
   "metadata": {
    "collapsed": true
   },
   "outputs": [],
   "source": []
  }
 ],
 "metadata": {
  "kernelspec": {
   "display_name": "Python 3",
   "language": "python",
   "name": "python3"
  },
  "language_info": {
   "codemirror_mode": {
    "name": "ipython",
    "version": 3
   },
   "file_extension": ".py",
   "mimetype": "text/x-python",
   "name": "python",
   "nbconvert_exporter": "python",
   "pygments_lexer": "ipython3",
   "version": "3.6.1"
  }
 },
 "nbformat": 4,
 "nbformat_minor": 2
}
