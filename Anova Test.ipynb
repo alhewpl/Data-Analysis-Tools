{
 "cells": [
  {
   "cell_type": "markdown",
   "metadata": {},
   "source": [
    "#### import necessary libraries"
   ]
  },
  {
   "cell_type": "code",
   "execution_count": 17,
   "metadata": {
    "collapsed": true
   },
   "outputs": [],
   "source": [
    "import pandas as pd\n",
    "import numpy as np\n",
    "import statsmodels.formula.api as smf\n",
    "import statsmodels.stats.multicomp as multi\n",
    "import seaborn as sns\n",
    "import matplotlib.pyplot as plt "
   ]
  },
  {
   "cell_type": "markdown",
   "metadata": {},
   "source": [
    "#### read in the data"
   ]
  },
  {
   "cell_type": "code",
   "execution_count": 2,
   "metadata": {
    "collapsed": true
   },
   "outputs": [],
   "source": [
    "data1 = pd.read_csv('gapminder2.csv', low_memory=False)"
   ]
  },
  {
   "cell_type": "markdown",
   "metadata": {},
   "source": [
    "#### remove unnecessary columns and make a copy of the subdata"
   ]
  },
  {
   "cell_type": "code",
   "execution_count": 3,
   "metadata": {
    "collapsed": true
   },
   "outputs": [],
   "source": [
    "data2 = data1[[\"continent\", \"country\", \"breastcancerper100th\", \"urbanrate\", \"incomeperperson\", \"breastcancernbdeaths\"]]\n",
    "data = data2.copy()"
   ]
  },
  {
   "cell_type": "markdown",
   "metadata": {},
   "source": [
    "#### remove missing values(in my case '0' values)"
   ]
  },
  {
   "cell_type": "code",
   "execution_count": 4,
   "metadata": {
    "collapsed": true
   },
   "outputs": [],
   "source": [
    "data= data.replace(0, np.NaN)\n",
    "data = data.dropna()"
   ]
  },
  {
   "cell_type": "code",
   "execution_count": 5,
   "metadata": {},
   "outputs": [
    {
     "name": "stdout",
     "output_type": "stream",
     "text": [
      "165\n",
      "6\n"
     ]
    }
   ],
   "source": [
    "print(len(data))\n",
    "print(len(data.columns))"
   ]
  },
  {
   "cell_type": "markdown",
   "metadata": {},
   "source": [
    "#### Change the data type for chosen variables"
   ]
  },
  {
   "cell_type": "code",
   "execution_count": 6,
   "metadata": {
    "collapsed": true
   },
   "outputs": [],
   "source": [
    "data['breastcancerper100th'] = pd.to_numeric(data['breastcancerper100th'])\n",
    "data['breastcancernbdeaths'] = pd.to_numeric(data['breastcancernbdeaths'])\n",
    "data['incomeperperson'] = pd.to_numeric(data['incomeperperson'])\n",
    "data['urbanrate'] = pd.to_numeric(data['urbanrate'])\n"
   ]
  },
  {
   "cell_type": "markdown",
   "metadata": {},
   "source": [
    "#### Create variable quartiles and calculate frequency in bins "
   ]
  },
  {
   "cell_type": "code",
   "execution_count": 7,
   "metadata": {},
   "outputs": [
    {
     "name": "stdout",
     "output_type": "stream",
     "text": [
      "Frequency distribution - urban rate:\n",
      "          counts  percentages\n",
      "0-25%        32     0.193939\n",
      "26-50%       42     0.254545\n",
      "51-74%       61     0.369697\n",
      "75-100%      30     0.181818\n"
     ]
    }
   ],
   "source": [
    "data['urbanratepercent'] =pd.cut(data.urbanrate,4,labels=['0-25%','26-50%','51-74%','75-100%'])\n",
    "urban_freq = pd.concat(dict(counts = data[\"urbanratepercent\"].value_counts(sort=False, dropna=False),\n",
    "                                   percentages = data[\"urbanratepercent\"].value_counts(sort=False, dropna=False,\n",
    "                                                                                       normalize=True)),\n",
    "                            axis=1)\n",
    "print(\"Frequency distribution - urban rate:\\n\", urban_freq)"
   ]
  },
  {
   "cell_type": "code",
   "execution_count": 8,
   "metadata": {},
   "outputs": [
    {
     "name": "stdout",
     "output_type": "stream",
     "text": [
      "Income per person in categories\n",
      "Frequency distribution - income per person:\n",
      "            counts  percentages\n",
      "high           12     0.072727\n",
      "low           134     0.812121\n",
      "medium         16     0.096970\n",
      "very high       3     0.018182\n"
     ]
    }
   ],
   "source": [
    "print('Income per person in categories')\n",
    "data['incomelabel'] =pd.cut(data.incomeperperson,4,labels=['low','medium','high','very high'])\n",
    "income_freq = pd.concat(dict(counts = data[\"incomelabel\"].value_counts(sort=False, dropna=False),\n",
    "                                   percentages = data[\"incomelabel\"].value_counts(sort=False, dropna=False,\n",
    "                                                                                       normalize=True)),\n",
    "                            axis=1)\n",
    "print(\"Frequency distribution - income per person:\\n\", income_freq)"
   ]
  },
  {
   "cell_type": "code",
   "execution_count": 9,
   "metadata": {},
   "outputs": [
    {
     "data": {
      "text/html": [
       "<div>\n",
       "<style>\n",
       "    .dataframe thead tr:only-child th {\n",
       "        text-align: right;\n",
       "    }\n",
       "\n",
       "    .dataframe thead th {\n",
       "        text-align: left;\n",
       "    }\n",
       "\n",
       "    .dataframe tbody tr th {\n",
       "        vertical-align: top;\n",
       "    }\n",
       "</style>\n",
       "<table border=\"1\" class=\"dataframe\">\n",
       "  <thead>\n",
       "    <tr style=\"text-align: right;\">\n",
       "      <th></th>\n",
       "      <th>continent</th>\n",
       "      <th>country</th>\n",
       "      <th>breastcancerper100th</th>\n",
       "      <th>urbanrate</th>\n",
       "      <th>incomeperperson</th>\n",
       "      <th>breastcancernbdeaths</th>\n",
       "      <th>urbanratepercent</th>\n",
       "      <th>incomelabel</th>\n",
       "    </tr>\n",
       "  </thead>\n",
       "  <tbody>\n",
       "    <tr>\n",
       "      <th>1</th>\n",
       "      <td>Europe</td>\n",
       "      <td>Albania</td>\n",
       "      <td>57.4</td>\n",
       "      <td>46.72</td>\n",
       "      <td>1914.996551</td>\n",
       "      <td>300</td>\n",
       "      <td>26-50%</td>\n",
       "      <td>low</td>\n",
       "    </tr>\n",
       "    <tr>\n",
       "      <th>2</th>\n",
       "      <td>Africa</td>\n",
       "      <td>Algeria</td>\n",
       "      <td>23.5</td>\n",
       "      <td>65.22</td>\n",
       "      <td>2231.993335</td>\n",
       "      <td>2019</td>\n",
       "      <td>51-74%</td>\n",
       "      <td>low</td>\n",
       "    </tr>\n",
       "    <tr>\n",
       "      <th>3</th>\n",
       "      <td>Africa</td>\n",
       "      <td>Angola</td>\n",
       "      <td>23.1</td>\n",
       "      <td>56.70</td>\n",
       "      <td>1381.004268</td>\n",
       "      <td>654</td>\n",
       "      <td>51-74%</td>\n",
       "      <td>low</td>\n",
       "    </tr>\n",
       "    <tr>\n",
       "      <th>4</th>\n",
       "      <td>South America</td>\n",
       "      <td>Argentina</td>\n",
       "      <td>73.9</td>\n",
       "      <td>92.00</td>\n",
       "      <td>10749.419238</td>\n",
       "      <td>5362</td>\n",
       "      <td>75-100%</td>\n",
       "      <td>low</td>\n",
       "    </tr>\n",
       "    <tr>\n",
       "      <th>5</th>\n",
       "      <td>Asia</td>\n",
       "      <td>Armenia</td>\n",
       "      <td>51.6</td>\n",
       "      <td>63.86</td>\n",
       "      <td>1326.741757</td>\n",
       "      <td>561</td>\n",
       "      <td>51-74%</td>\n",
       "      <td>low</td>\n",
       "    </tr>\n",
       "  </tbody>\n",
       "</table>\n",
       "</div>"
      ],
      "text/plain": [
       "       continent    country  breastcancerper100th  urbanrate  incomeperperson  \\\n",
       "1         Europe    Albania                  57.4      46.72      1914.996551   \n",
       "2         Africa    Algeria                  23.5      65.22      2231.993335   \n",
       "3         Africa     Angola                  23.1      56.70      1381.004268   \n",
       "4  South America  Argentina                  73.9      92.00     10749.419238   \n",
       "5           Asia    Armenia                  51.6      63.86      1326.741757   \n",
       "\n",
       "   breastcancernbdeaths urbanratepercent incomelabel  \n",
       "1                   300           26-50%         low  \n",
       "2                  2019           51-74%         low  \n",
       "3                   654           51-74%         low  \n",
       "4                  5362          75-100%         low  \n",
       "5                   561           51-74%         low  "
      ]
     },
     "execution_count": 9,
     "metadata": {},
     "output_type": "execute_result"
    }
   ],
   "source": [
    "data.head()"
   ]
  },
  {
   "cell_type": "markdown",
   "metadata": {},
   "source": [
    "#### create a subset to include the 2 variables(1 categorical + 1 numerical) we want to analyse "
   ]
  },
  {
   "cell_type": "code",
   "execution_count": 10,
   "metadata": {
    "collapsed": true
   },
   "outputs": [],
   "source": [
    "sub1 = data[['breastcancerper100th', 'urbanratepercent']]"
   ]
  },
  {
   "cell_type": "markdown",
   "metadata": {},
   "source": [
    "#### using ols function for calculating the F-statistic and associated p value"
   ]
  },
  {
   "cell_type": "code",
   "execution_count": 11,
   "metadata": {},
   "outputs": [
    {
     "name": "stdout",
     "output_type": "stream",
     "text": [
      "                             OLS Regression Results                             \n",
      "================================================================================\n",
      "Dep. Variable:     breastcancerper100th   R-squared:                       0.328\n",
      "Model:                              OLS   Adj. R-squared:                  0.316\n",
      "Method:                   Least Squares   F-statistic:                     26.25\n",
      "Date:                  Sun, 22 Oct 2017   Prob (F-statistic):           7.10e-14\n",
      "Time:                          13:28:14   Log-Likelihood:                -718.30\n",
      "No. Observations:                   165   AIC:                             1445.\n",
      "Df Residuals:                       161   BIC:                             1457.\n",
      "Df Model:                             3                                         \n",
      "Covariance Type:              nonrobust                                         \n",
      "==================================================================================================\n",
      "                                     coef    std err          t      P>|t|      [0.025      0.975]\n",
      "--------------------------------------------------------------------------------------------------\n",
      "Intercept                         21.6437      3.366      6.430      0.000      14.996      28.292\n",
      "C(urbanratepercent)[T.26-50%]      7.5348      4.468      1.686      0.094      -1.289      16.359\n",
      "C(urbanratepercent)[T.51-74%]     18.4874      4.157      4.448      0.000      10.279      26.696\n",
      "C(urbanratepercent)[T.75-100%]    39.7863      4.839      8.221      0.000      30.229      49.343\n",
      "==============================================================================\n",
      "Omnibus:                        3.014   Durbin-Watson:                   1.713\n",
      "Prob(Omnibus):                  0.222   Jarque-Bera (JB):                3.041\n",
      "Skew:                           0.322   Prob(JB):                        0.219\n",
      "Kurtosis:                       2.834   Cond. No.                         5.46\n",
      "==============================================================================\n",
      "\n",
      "Warnings:\n",
      "[1] Standard Errors assume that the covariance matrix of the errors is correctly specified.\n"
     ]
    }
   ],
   "source": [
    "model1 = smf.ols(formula='breastcancerper100th ~ C(urbanratepercent)', data=sub1)\n",
    "results1 = model1.fit()\n",
    "print (results1.summary())"
   ]
  },
  {
   "cell_type": "markdown",
   "metadata": {},
   "source": [
    "#### Since our p value is so small, 0.0000000000000710, we can safely reject the null hypothethis and accept that there is an association between the percent of urbanisation of countries and the number of breast cancer cases."
   ]
  },
  {
   "cell_type": "code",
   "execution_count": 14,
   "metadata": {},
   "outputs": [
    {
     "name": "stdout",
     "output_type": "stream",
     "text": [
      "means for breast cancer cases by urbanisation level\n",
      "                  breastcancerper100th\n",
      "urbanratepercent                      \n",
      "0-25%                        21.643750\n",
      "26-50%                       29.178571\n",
      "51-74%                       40.131148\n",
      "75-100%                      61.430000\n"
     ]
    }
   ],
   "source": [
    "print ('means for breast cancer cases by urbanisation level')\n",
    "m2= sub1.groupby('urbanratepercent').mean()\n",
    "print (m2) "
   ]
  },
  {
   "cell_type": "code",
   "execution_count": 15,
   "metadata": {},
   "outputs": [
    {
     "name": "stdout",
     "output_type": "stream",
     "text": [
      "standard deviations for breast cancer cases by urbanisation level\n",
      "                  breastcancerper100th\n",
      "urbanratepercent                      \n",
      "0-25%                         8.567491\n",
      "26-50%                       14.904469\n",
      "51-74%                       20.438334\n",
      "75-100%                      27.502992\n"
     ]
    }
   ],
   "source": [
    "print ('standard deviations for breast cancer cases by urbanisation level')\n",
    "sd2 = sub1.groupby('urbanratepercent').std()\n",
    "print (sd2)"
   ]
  },
  {
   "cell_type": "markdown",
   "metadata": {},
   "source": [
    "#### run post-hoc test for ANOVA since our categorical variable has more than 2 levels"
   ]
  },
  {
   "cell_type": "code",
   "execution_count": 16,
   "metadata": {},
   "outputs": [
    {
     "name": "stdout",
     "output_type": "stream",
     "text": [
      "Multiple Comparison of Means - Tukey HSD,FWER=0.05\n",
      "==============================================\n",
      "group1  group2 meandiff  lower   upper  reject\n",
      "----------------------------------------------\n",
      "0-25%   26-50%  7.5348   -4.066 19.1356 False \n",
      "0-25%   51-74% 18.4874   7.6961 29.2787  True \n",
      "0-25%  75-100% 39.7862  27.2221 52.3504  True \n",
      "26-50%  51-74% 10.9526   1.0397 20.8655  True \n",
      "26-50% 75-100% 32.2514  20.4332 44.0697  True \n",
      "51-74% 75-100% 21.2989  10.2741 32.3236  True \n",
      "----------------------------------------------\n"
     ]
    }
   ],
   "source": [
    "mc1 = multi.MultiComparison(sub1['breastcancerper100th'], sub1['urbanratepercent'])\n",
    "res1 = mc1.tukeyhsd()\n",
    "print(res1.summary())"
   ]
  },
  {
   "cell_type": "code",
   "execution_count": null,
   "metadata": {
    "collapsed": true
   },
   "outputs": [],
   "source": []
  }
 ],
 "metadata": {
  "kernelspec": {
   "display_name": "Python 3",
   "language": "python",
   "name": "python3"
  },
  "language_info": {
   "codemirror_mode": {
    "name": "ipython",
    "version": 3
   },
   "file_extension": ".py",
   "mimetype": "text/x-python",
   "name": "python",
   "nbconvert_exporter": "python",
   "pygments_lexer": "ipython3",
   "version": "3.6.1"
  }
 },
 "nbformat": 4,
 "nbformat_minor": 2
}
